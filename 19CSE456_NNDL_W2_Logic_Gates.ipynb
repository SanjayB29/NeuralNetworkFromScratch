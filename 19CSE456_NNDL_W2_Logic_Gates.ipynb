{
  "cells": [
    {
      "cell_type": "code",
      "execution_count": 2,
      "metadata": {
        "id": "1wx1ausGNb63"
      },
      "outputs": [],
      "source": [
        "# This code just uses numpy for array and matrix representation.\n",
        "import numpy as np"
      ]
    },
    {
      "cell_type": "code",
      "execution_count": 3,
      "metadata": {
        "id": "rT8VR7HqSaYS"
      },
      "outputs": [],
      "source": [
        "# Define which operator you are going to use. This can be `and`, `or` or `xor`.\n",
        "operator = 'and'"
      ]
    },
    {
      "cell_type": "code",
      "execution_count": 4,
      "metadata": {
        "id": "67-UPNT9Sesj"
      },
      "outputs": [],
      "source": [
        "# `features` variable define input array and `labels`(output) array are selected base on the operator.\n",
        "features = np.array([ [0, 0], [0, 1], [1, 0], [1, 1]])\n",
        "\n",
        "if operator == 'and':\n",
        "\tlabels = np.array([0, 0, 0, 1])\n",
        "elif operator == 'or':\n",
        "\tlabels = np.array([0, 1, 1, 1])\n",
        "elif operator == 'xor':\n",
        "\tlabels = np.array([0, 1, 1, 0])"
      ]
    },
    {
      "cell_type": "code",
      "execution_count": 5,
      "metadata": {
        "colab": {
          "base_uri": "https://localhost:8080/"
        },
        "id": "R_F7S8fpYkzP",
        "outputId": "70ed59a3-b033-4197-90a2-189bae290a4f"
      },
      "outputs": [
        {
          "data": {
            "text/plain": [
              "array([[0, 0],\n",
              "       [0, 1],\n",
              "       [1, 0],\n",
              "       [1, 1]])"
            ]
          },
          "execution_count": 5,
          "metadata": {},
          "output_type": "execute_result"
        }
      ],
      "source": [
        "features"
      ]
    },
    {
      "cell_type": "code",
      "execution_count": 6,
      "metadata": {
        "colab": {
          "base_uri": "https://localhost:8080/"
        },
        "id": "A4GFD9-IYp2c",
        "outputId": "165f6f86-9570-4c6e-c48c-d5bffd1565be"
      },
      "outputs": [
        {
          "data": {
            "text/plain": [
              "4"
            ]
          },
          "execution_count": 6,
          "metadata": {},
          "output_type": "execute_result"
        }
      ],
      "source": [
        "len(features)"
      ]
    },
    {
      "cell_type": "code",
      "execution_count": 7,
      "metadata": {
        "colab": {
          "base_uri": "https://localhost:8080/"
        },
        "id": "KTAdR1M8Sqe8",
        "outputId": "d15a42e3-fbb0-4569-e401-6c068129f81b"
      },
      "outputs": [
        {
          "name": "stdout",
          "output_type": "stream",
          "text": [
            "learning rate:  0.1 , bias:  0.9921005374568351\n"
          ]
        }
      ],
      "source": [
        "# `w` define weight of the perceptron,  `threshold` define a umbral, `alpha` is a learning rate, `epoch` is a number of process to train the model.\n",
        "# initial random values for weights\n",
        "w = np.random.rand(2)\n",
        "\n",
        "bias =  np.random.rand()\n",
        "\n",
        "# learning rate\n",
        "alpha = 0.1\n",
        "\n",
        "#learning time\n",
        "epoch = 1000\n",
        "\n",
        "print(\"learning rate: \", alpha,\", bias: \", bias)"
      ]
    },
    {
      "cell_type": "code",
      "execution_count": 8,
      "metadata": {
        "id": "OVdgj8UO6iVF"
      },
      "outputs": [],
      "source": [
        "w = np.array([1.2, 0.6])\n",
        "\n",
        "bias =  1\n",
        "\n",
        "# learning rate\n",
        "alpha = 0.5\n",
        "\n",
        "#learning time\n",
        "epoch = 1000"
      ]
    },
    {
      "cell_type": "code",
      "execution_count": 9,
      "metadata": {
        "id": "WNKdnWHztX17"
      },
      "outputs": [],
      "source": [
        "def step_fun(s):\n",
        "  if s > 0:\n",
        "    return 1\n",
        "  else:\n",
        "    return 0"
      ]
    },
    {
      "cell_type": "code",
      "execution_count": 10,
      "metadata": {
        "colab": {
          "base_uri": "https://localhost:8080/"
        },
        "id": "FtHMHqRuS4Nt",
        "outputId": "f6f65d73-d822-44e5-e1d0-9e137515ebd5"
      },
      "outputs": [
        {
          "name": "stdout",
          "output_type": "stream",
          "text": [
            "epoch  1\n",
            "0   and   0  -> actual:  0 , predicted:  1  (w1:  1.2 and w2:  0.6 ), bias:  0.5\n",
            "0   and   1  -> actual:  0 , predicted:  1  (w1:  1.2 and w2:  0.09999999999999998 ), bias:  0.0\n",
            "1   and   0  -> actual:  0 , predicted:  1  (w1:  0.7 and w2:  0.09999999999999998 ), bias:  -0.5\n",
            "1   and   1  -> actual:  1 , predicted:  1  (w1:  0.7 and w2:  0.09999999999999998 ), bias:  -0.5\n",
            "------------------------------\n",
            "epoch  2\n",
            "0   and   0  -> actual:  0 , predicted:  0  (w1:  0.7 and w2:  0.09999999999999998 ), bias:  -0.5\n",
            "0   and   1  -> actual:  0 , predicted:  0  (w1:  0.7 and w2:  0.09999999999999998 ), bias:  -0.5\n",
            "1   and   0  -> actual:  0 , predicted:  1  (w1:  0.19999999999999996 and w2:  0.09999999999999998 ), bias:  -1.0\n",
            "1   and   1  -> actual:  1 , predicted:  0  (w1:  0.7 and w2:  0.6 ), bias:  -0.5\n",
            "------------------------------\n",
            "epoch  3\n",
            "0   and   0  -> actual:  0 , predicted:  0  (w1:  0.7 and w2:  0.6 ), bias:  -0.5\n",
            "0   and   1  -> actual:  0 , predicted:  1  (w1:  0.7 and w2:  0.09999999999999998 ), bias:  -1.0\n",
            "1   and   0  -> actual:  0 , predicted:  0  (w1:  0.7 and w2:  0.09999999999999998 ), bias:  -1.0\n",
            "1   and   1  -> actual:  1 , predicted:  0  (w1:  1.2 and w2:  0.6 ), bias:  -0.5\n",
            "------------------------------\n",
            "epoch  4\n",
            "0   and   0  -> actual:  0 , predicted:  0  (w1:  1.2 and w2:  0.6 ), bias:  -0.5\n",
            "0   and   1  -> actual:  0 , predicted:  1  (w1:  1.2 and w2:  0.09999999999999998 ), bias:  -1.0\n",
            "1   and   0  -> actual:  0 , predicted:  1  (w1:  0.7 and w2:  0.09999999999999998 ), bias:  -1.5\n",
            "1   and   1  -> actual:  1 , predicted:  0  (w1:  1.2 and w2:  0.6 ), bias:  -1.0\n",
            "------------------------------\n",
            "epoch  5\n",
            "0   and   0  -> actual:  0 , predicted:  0  (w1:  1.2 and w2:  0.6 ), bias:  -1.0\n",
            "0   and   1  -> actual:  0 , predicted:  0  (w1:  1.2 and w2:  0.6 ), bias:  -1.0\n",
            "1   and   0  -> actual:  0 , predicted:  1  (w1:  0.7 and w2:  0.6 ), bias:  -1.5\n",
            "1   and   1  -> actual:  1 , predicted:  0  (w1:  1.2 and w2:  1.1 ), bias:  -1.0\n",
            "------------------------------\n",
            "epoch  6\n",
            "0   and   0  -> actual:  0 , predicted:  0  (w1:  1.2 and w2:  1.1 ), bias:  -1.0\n",
            "0   and   1  -> actual:  0 , predicted:  1  (w1:  1.2 and w2:  0.6000000000000001 ), bias:  -1.5\n",
            "1   and   0  -> actual:  0 , predicted:  0  (w1:  1.2 and w2:  0.6000000000000001 ), bias:  -1.5\n",
            "1   and   1  -> actual:  1 , predicted:  1  (w1:  1.2 and w2:  0.6000000000000001 ), bias:  -1.5\n",
            "------------------------------\n",
            "epoch  7\n",
            "0   and   0  -> actual:  0 , predicted:  0  (w1:  1.2 and w2:  0.6000000000000001 ), bias:  -1.5\n",
            "0   and   1  -> actual:  0 , predicted:  0  (w1:  1.2 and w2:  0.6000000000000001 ), bias:  -1.5\n",
            "1   and   0  -> actual:  0 , predicted:  0  (w1:  1.2 and w2:  0.6000000000000001 ), bias:  -1.5\n",
            "1   and   1  -> actual:  1 , predicted:  1  (w1:  1.2 and w2:  0.6000000000000001 ), bias:  -1.5\n"
          ]
        }
      ],
      "source": [
        "# The main code where we train the model (model in this case is fit the weight values).\n",
        "for i in range(0, epoch):\n",
        "\tprint(\"epoch \", i+1)\n",
        "\tglobal_delta = 0 #this variable is used to terminate the for loop if learning completed in early epoch\n",
        "\tfor j in range(len(features)):\n",
        "\n",
        "\t\tactual = labels[j]\n",
        "\n",
        "\t\tsum = features[j][0]*w[0] + features[j][1]*w[1] + bias\n",
        "\n",
        "\t\tpredicted = step_fun(sum)\n",
        "\n",
        "\t\tdelta = actual - predicted\n",
        "\t\tglobal_delta = global_delta + abs(delta)\n",
        "\n",
        "\t\t#update weights with respect to the error\n",
        "\t\tfor k in range(0, 2):\n",
        "\t\t\tw[k] = w[k] + delta * alpha * features[j][k]\n",
        "\t\tbias = bias + alpha * delta\n",
        "\n",
        "\t\tprint(features[j][0],\" \", operator, \" \", features[j][1], \" -> actual: \", actual, \", predicted: \", predicted, \" (w1: \",w[0],\"and w2: \",w[1],\"), bias: \",bias)\n",
        "\n",
        "\tif global_delta == 0:\n",
        "\t\tbreak\n",
        "\n",
        "\tprint(\"------------------------------\")"
      ]
    },
    {
      "cell_type": "code",
      "execution_count": 11,
      "metadata": {
        "colab": {
          "base_uri": "https://localhost:8080/"
        },
        "id": "uU1Jp-ADuADj",
        "outputId": "84eca91b-6cb7-4358-c9d1-2b62e5fbfbfd"
      },
      "outputs": [
        {
          "name": "stdout",
          "output_type": "stream",
          "text": [
            "1\n",
            "0\n"
          ]
        }
      ],
      "source": [
        "# Testing\n",
        "\n",
        "sum = 1*w[0] + 1*w[1] + bias\n",
        "p = step_fun(sum)\n",
        "print(p)\n",
        "\n",
        "sum = 0*w[0] + 0*w[1] + bias\n",
        "p = step_fun(sum)\n",
        "print(p)"
      ]
    }
  ],
  "metadata": {
    "colab": {
      "provenance": []
    },
    "kernelspec": {
      "display_name": "Python 3",
      "name": "python3"
    },
    "language_info": {
      "codemirror_mode": {
        "name": "ipython",
        "version": 3
      },
      "file_extension": ".py",
      "mimetype": "text/x-python",
      "name": "python",
      "nbconvert_exporter": "python",
      "pygments_lexer": "ipython3",
      "version": "3.11.4"
    }
  },
  "nbformat": 4,
  "nbformat_minor": 0
}
