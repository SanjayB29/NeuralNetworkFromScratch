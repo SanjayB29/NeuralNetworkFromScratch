{
 "cells": [
  {
   "cell_type": "code",
   "execution_count": 1,
   "id": "b70d523d-d8d9-48dc-8e0a-ae88c1fb58dc",
   "metadata": {},
   "outputs": [],
   "source": [
    "import numpy as np\n",
    "import pandas as pd\n",
    "from sklearn.model_selection import train_test_split\n",
    "from sklearn.metrics import accuracy_score"
   ]
  },
  {
   "cell_type": "code",
   "execution_count": 2,
   "id": "6bc7e002-acf5-457a-94e6-6c0a74882888",
   "metadata": {},
   "outputs": [],
   "source": [
    "class MyPerceptron:\n",
    "    def __init__(self,lr=0.1,iter=1000):\n",
    "        self.lr=lr\n",
    "        self.epochs=iter\n",
    "        self.weights=None\n",
    "        self.bias=None\n",
    "\n",
    "    def fit(self, X,y):\n",
    "        self.weights = np.zeros(X.shape[1])\n",
    "        self.bias=0\n",
    "        for epochs in range(self.epochs):\n",
    "            for i in range(X.shape[0]):\n",
    "                y_pred=self.Activation(np.dot(X[i],self.weights)+self.bias)\n",
    "\n",
    "                self.weights=self.weights + self.lr*(y[i]-y_pred)*X[i]\n",
    "                self.bias=self.bias + self.lr*(y[i]-y_pred)\n",
    "        # print(\"Weights: \",self.weights,\"Bias: \",self.bias)\n",
    "\n",
    "    def Activation(self, activation):\n",
    "        if activation>0:\n",
    "            return 1\n",
    "        else:\n",
    "            return 0\n",
    "\n",
    "    def predict(self,X):\n",
    "      y_pred=[]\n",
    "      for i in range(X.shape[0]):\n",
    "        y_pred.append(self.Activation(np.dot(X[i],self.weights)+self.bias))\n",
    "      return y_pred"
   ]
  },
  {
   "cell_type": "code",
   "execution_count": 3,
   "id": "39d3c352-21a1-4771-a48e-be56ceefb80c",
   "metadata": {},
   "outputs": [],
   "source": [
    "def PredictFlowerType(data,flower,find):\n",
    "    X=data.iloc[:,0:4].values\n",
    "    y=data.iloc[:,4]\n",
    "    y=np.where(data.iloc[:,4]==flower,1,0)\n",
    "    # print(y)\n",
    "    X_train,X_test,y_train,y_test=train_test_split(X,y,test_size=0.2,random_state=0)\n",
    "    per=MyPerceptron(0.1,30)\n",
    "    per.fit(X_train,y_train)\n",
    "    # find=find.reshape(1,-1)\n",
    "    x=per.predict(find)\n",
    "    # print(x)\n",
    "    return x"
   ]
  },
  {
   "cell_type": "code",
   "execution_count": 4,
   "id": "1e3a4cfe-2866-4998-8716-c5822ff5d33a",
   "metadata": {},
   "outputs": [
    {
     "name": "stdin",
     "output_type": "stream",
     "text": [
      "Enter the flower dimensions:  6\t2.9\t4.5\t1.5\n"
     ]
    },
    {
     "name": "stdout",
     "output_type": "stream",
     "text": [
      "010 -->Iris-versicolor\n"
     ]
    }
   ],
   "source": [
    "a,b,c,d=map(float, input(\"Enter the flower dimensions: \").split())\n",
    "inp=np.array([[a,b,c,d]])\n",
    "flower_list=['Iris-setosa','Iris-versicolor','Iris-virginica']\n",
    "data=pd.read_csv('iris.csv')\n",
    "pre=''\n",
    "for i in flower_list:    \n",
    "    pre+=str(PredictFlowerType(data,i,inp)[0])\n",
    "if pre=='100':\n",
    "    print(pre,\"-->Iris-setosa\")\n",
    "elif pre=='001':\n",
    "    print(pre,\"-->Iris-virginica\")\n",
    "else:\n",
    "    print(\"010\",\"-->Iris-versicolor\")"
   ]
  }
 ],
 "metadata": {
  "kernelspec": {
   "display_name": "Python 3 (ipykernel)",
   "language": "python",
   "name": "python3"
  },
  "language_info": {
   "codemirror_mode": {
    "name": "ipython",
    "version": 3
   },
   "file_extension": ".py",
   "mimetype": "text/x-python",
   "name": "python",
   "nbconvert_exporter": "python",
   "pygments_lexer": "ipython3",
   "version": "3.11.4"
  }
 },
 "nbformat": 4,
 "nbformat_minor": 5
}
