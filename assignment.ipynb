{
  "cells": [
    {
      "cell_type": "code",
      "execution_count": 34,
      "id": "def88d87-9287-4740-b384-752df1393e1f",
      "metadata": {
        "id": "def88d87-9287-4740-b384-752df1393e1f"
      },
      "outputs": [],
      "source": [
        "import numpy as np\n",
        "import pandas as pd\n",
        "from sklearn.model_selection import train_test_split\n",
        "from sklearn.metrics import accuracy_score"
      ]
    },
    {
      "cell_type": "code",
      "source": [
        "pip install scikit-learn\n"
      ],
      "metadata": {
        "colab": {
          "base_uri": "https://localhost:8080/"
        },
        "id": "EclBBtXDVbSh",
        "outputId": "05475a4e-f8fc-4f85-c872-8665ec99e964"
      },
      "id": "EclBBtXDVbSh",
      "execution_count": 1,
      "outputs": [
        {
          "output_type": "stream",
          "name": "stdout",
          "text": [
            "Requirement already satisfied: scikit-learn in /usr/local/lib/python3.10/dist-packages (1.2.2)\n",
            "Requirement already satisfied: numpy>=1.17.3 in /usr/local/lib/python3.10/dist-packages (from scikit-learn) (1.23.5)\n",
            "Requirement already satisfied: scipy>=1.3.2 in /usr/local/lib/python3.10/dist-packages (from scikit-learn) (1.10.1)\n",
            "Requirement already satisfied: joblib>=1.1.1 in /usr/local/lib/python3.10/dist-packages (from scikit-learn) (1.3.2)\n",
            "Requirement already satisfied: threadpoolctl>=2.0.0 in /usr/local/lib/python3.10/dist-packages (from scikit-learn) (3.2.0)\n"
          ]
        }
      ]
    },
    {
      "cell_type": "code",
      "execution_count": 44,
      "id": "aa702bbf-ad8e-469a-ac55-d8d4e520f581",
      "metadata": {
        "id": "aa702bbf-ad8e-469a-ac55-d8d4e520f581"
      },
      "outputs": [],
      "source": [
        "class MyPerceptron:\n",
        "    def __init__(self,lr=0.1,iter=1000):\n",
        "        self.lr=lr\n",
        "        self.epochs=iter\n",
        "        self.weights=None\n",
        "        self.bias=None\n",
        "\n",
        "    def fit(self, X,y):\n",
        "        self.weights = np.zeros(X.shape[1])\n",
        "        self.bias=0\n",
        "        for epochs in range(self.epochs):\n",
        "            for i in range(X.shape[0]):\n",
        "                y_pred=self.Activation(np.dot(X[i],self.weights)+self.bias)\n",
        "\n",
        "                self.weights=self.weights + self.lr*(y[i]-y_pred)*X[i]\n",
        "                self.bias=self.bias + self.lr*(y[i]-y_pred)\n",
        "        print(\"Weights: \",self.weights,\"Bias: \",self.bias)\n",
        "\n",
        "    def Activation(self, activation):\n",
        "        if activation>0:\n",
        "            return 1\n",
        "        else:\n",
        "            return 0\n",
        "\n",
        "    def predict(self,X):\n",
        "      y_pred=[]\n",
        "      for i in range(X.shape[0]):\n",
        "        y_pred.append(self.Activation(np.dot(X[i],self.weights)+self.bias))\n",
        "      return y_pred\n",
        "\n",
        "\n",
        ""
      ]
    },
    {
      "cell_type": "code",
      "execution_count": null,
      "id": "0ce3e188-38f7-455b-a104-af4272b6f6ba",
      "metadata": {
        "id": "0ce3e188-38f7-455b-a104-af4272b6f6ba",
        "outputId": "a4f3cdb4-85d9-4fa0-c7ba-6b34f72f9634"
      },
      "outputs": [
        {
          "name": "stdout",
          "output_type": "stream",
          "text": [
            "Requirement already satisfied: sklearn in c:\\users\\sanja\\appdata\\local\\programs\\python\\python311\\lib\\site-packages (0.0.post7)\n"
          ]
        }
      ],
      "source": [
        "!pip install sklearn"
      ]
    },
    {
      "cell_type": "code",
      "execution_count": 48,
      "id": "848f6cca-0f86-4f6a-bb1b-cd1ba0e077a3",
      "metadata": {
        "id": "848f6cca-0f86-4f6a-bb1b-cd1ba0e077a3"
      },
      "outputs": [],
      "source": [
        "data=pd.read_csv('/content/iris.csv')"
      ]
    },
    {
      "cell_type": "code",
      "execution_count": 47,
      "id": "70cc2ca1-60c0-4cab-9fa2-0520b28c0f9a",
      "metadata": {
        "colab": {
          "base_uri": "https://localhost:8080/"
        },
        "id": "70cc2ca1-60c0-4cab-9fa2-0520b28c0f9a",
        "outputId": "a5ebcb84-a0a5-46df-f950-8605e3281bb8"
      },
      "outputs": [
        {
          "output_type": "stream",
          "name": "stdout",
          "text": [
            "Weights:  [-5.37 -2.72  7.14  6.47] Bias:  -3.2000000000000015\n",
            "Accuracy:  1.0\n"
          ]
        }
      ],
      "source": [
        "X=data.iloc[:,0:4].values\n",
        "y=data.iloc[:,4]\n",
        "y=np.where(data.iloc[:,4]=='Iris-virginica',1,0)\n",
        "X_train,X_test,y_train,y_test=train_test_split(X,y,test_size=0.2,random_state=0)\n",
        "per1=MyPerceptron(0.1,30)\n",
        "per1.fit(X_train,y_train)\n",
        "y_pred=per1.predict(X_test)\n",
        "acc=accuracy_score(y_pred,y_test)\n",
        "print(\"Accuracy: \",acc)"
      ]
    }
  ],
  "metadata": {
    "kernelspec": {
      "display_name": "Python 3 (ipykernel)",
      "language": "python",
      "name": "python3"
    },
    "language_info": {
      "codemirror_mode": {
        "name": "ipython",
        "version": 3
      },
      "file_extension": ".py",
      "mimetype": "text/x-python",
      "name": "python",
      "nbconvert_exporter": "python",
      "pygments_lexer": "ipython3",
      "version": "3.11.4"
    },
    "colab": {
      "provenance": []
    }
  },
  "nbformat": 4,
  "nbformat_minor": 5
}